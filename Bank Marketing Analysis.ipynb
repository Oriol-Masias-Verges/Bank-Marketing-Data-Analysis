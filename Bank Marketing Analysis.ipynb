{
 "cells": [
  {
   "cell_type": "markdown",
   "id": "ceb37dc2",
   "metadata": {},
   "source": [
    "# <center> Oriol Masias Vergés </center>\n",
    "# <center> Analyzing Bank Marketing Data with Python and Sqlite3 </center>"
   ]
  },
  {
   "cell_type": "markdown",
   "id": "cb376fb8",
   "metadata": {},
   "source": [
    "In the field of **data analytics**, understanding and extracting insights from datasets play a vital role in making **informed decisions** and gaining valuable business intelligence. To sharpen my data analytics skills, I embark on a project centered around the **Bank Marketing Dataset**. This dataset contains information about a bank's marketing campaigns and customer attributes, offering a rich resource for exploration and analysis. Each entry in the dataset represents an **individual customer** and their interaction with the bank's marketing campaigns."
   ]
  },
  {
   "cell_type": "markdown",
   "id": "d72ad518",
   "metadata": {},
   "source": [
    "## Variables:\n",
    "\n",
    "- **age:** Age of the client.\n",
    "- **job:** Type of job of the client.\n",
    "- **marital:** Marital status of the client.\n",
    "- **education:** Level of education of the client.\n",
    "- **default:** Whether the client has a credit in default or not.\n",
    "- **balance:** Balance of the client's account.\n",
    "- **housing:** Whether the client has a housing loan or not.\n",
    "- **loan:** Whether the client has a personal loan or not.\n",
    "- **contact:** Contact communication type with the client.\n",
    "- **day:** Day of the month when the client was last contacted.\n",
    "- **month:** Month of the year when the client was last contacted.\n",
    "- **duration:** Duration of the last contact with the client in seconds.\n",
    "- **campaign:** Number of contacts performed during this campaign for the client.\n",
    "- **pdays:** Number of days that passed after the client was last contacted from a previous campaign (A value of 999 indicates that the client was not previously contacted).\n",
    "- **previous:** Number of contacts performed before this campaign and for this client.\n",
    "- **poutcome:** Outcome of the previous marketing campaign.\n",
    "- **deposit:** Whether the client subscribed to a term deposit or not."
   ]
  },
  {
   "cell_type": "code",
   "execution_count": 1,
   "id": "4ab166ab",
   "metadata": {},
   "outputs": [],
   "source": [
    "# Import libreries\n",
    "import sqlite3\n",
    "from pathlib import Path\n",
    "import pandas as pd"
   ]
  },
  {
   "cell_type": "code",
   "execution_count": 2,
   "id": "a8d1b559",
   "metadata": {},
   "outputs": [],
   "source": [
    "# Create empty database\n",
    "Path(\"bank.db\").touch()"
   ]
  },
  {
   "cell_type": "code",
   "execution_count": 3,
   "id": "b8be0145",
   "metadata": {},
   "outputs": [],
   "source": [
    "# Connect to database\n",
    "conn = sqlite3.connect(\"bank.db\")\n",
    "c = conn.cursor()"
   ]
  },
  {
   "cell_type": "code",
   "execution_count": 4,
   "id": "be191aed",
   "metadata": {},
   "outputs": [
    {
     "data": {
      "text/plain": [
       "<sqlite3.Cursor at 0x7f8b1a65dd50>"
      ]
     },
     "execution_count": 4,
     "metadata": {},
     "output_type": "execute_result"
    }
   ],
   "source": [
    "# Drop table if exists\n",
    "c.execute(\"\"\"DROP TABLE IF EXISTS bank;\"\"\")\n",
    "\n",
    "# Create a table\n",
    "c.execute(\n",
    "    \"\"\"CREATE TABLE bank (\n",
    "    age int, job text, \n",
    "    marital text, education text, \n",
    "    default_e text, balance int, \n",
    "    housing text, loan text, \n",
    "    contact text, day int, month text, \n",
    "    duration int, campaign int, \n",
    "    pdays text, previous int, \n",
    "    poutcome text, deposit text\n",
    "    );\"\"\"\n",
    ")"
   ]
  },
  {
   "cell_type": "code",
   "execution_count": 5,
   "id": "3b7829ef",
   "metadata": {},
   "outputs": [
    {
     "data": {
      "text/plain": [
       "11162"
      ]
     },
     "execution_count": 5,
     "metadata": {},
     "output_type": "execute_result"
    }
   ],
   "source": [
    "# Open csv file\n",
    "bank = pd.read_csv(\"bank.csv\")\n",
    "\n",
    "# Add table to database\n",
    "bank.to_sql(\"bank\", conn, if_exists=\"append\", index=False)"
   ]
  },
  {
   "cell_type": "code",
   "execution_count": 6,
   "id": "7e70023d",
   "metadata": {
    "scrolled": true
   },
   "outputs": [
    {
     "name": "stdout",
     "output_type": "stream",
     "text": [
      "Age: 59\n",
      "Job: admin.\n",
      "Marital: married\n",
      "Education: secondary\n",
      "Default: no\n",
      "Balance: 2343\n",
      "Housing: yes\n",
      "Loan: no\n",
      "Contact: unknown\n",
      "Day: 5\n",
      "Month: may\n",
      "Duration: 1042\n",
      "Campaign: 1\n",
      "Pdays: -1\n",
      "Previous: 0\n",
      "Poutcome: unknown\n",
      "Deposit: yes\n",
      "---------------\n",
      "Age: 56\n",
      "Job: admin.\n",
      "Marital: married\n",
      "Education: secondary\n",
      "Default: no\n",
      "Balance: 45\n",
      "Housing: no\n",
      "Loan: no\n",
      "Contact: unknown\n",
      "Day: 5\n",
      "Month: may\n",
      "Duration: 1467\n",
      "Campaign: 1\n",
      "Pdays: -1\n",
      "Previous: 0\n",
      "Poutcome: unknown\n",
      "Deposit: yes\n",
      "---------------\n",
      "Age: 41\n",
      "Job: technician\n",
      "Marital: married\n",
      "Education: secondary\n",
      "Default: no\n",
      "Balance: 1270\n",
      "Housing: yes\n",
      "Loan: no\n",
      "Contact: unknown\n",
      "Day: 5\n",
      "Month: may\n",
      "Duration: 1389\n",
      "Campaign: 1\n",
      "Pdays: -1\n",
      "Previous: 0\n",
      "Poutcome: unknown\n",
      "Deposit: yes\n",
      "---------------\n",
      "Age: 55\n",
      "Job: services\n",
      "Marital: married\n",
      "Education: secondary\n",
      "Default: no\n",
      "Balance: 2476\n",
      "Housing: yes\n",
      "Loan: no\n",
      "Contact: unknown\n",
      "Day: 5\n",
      "Month: may\n",
      "Duration: 579\n",
      "Campaign: 1\n",
      "Pdays: -1\n",
      "Previous: 0\n",
      "Poutcome: unknown\n",
      "Deposit: yes\n",
      "---------------\n",
      "Age: 54\n",
      "Job: admin.\n",
      "Marital: married\n",
      "Education: tertiary\n",
      "Default: no\n",
      "Balance: 184\n",
      "Housing: no\n",
      "Loan: no\n",
      "Contact: unknown\n",
      "Day: 5\n",
      "Month: may\n",
      "Duration: 673\n",
      "Campaign: 2\n",
      "Pdays: -1\n",
      "Previous: 0\n",
      "Poutcome: unknown\n",
      "Deposit: yes\n",
      "---------------\n"
     ]
    }
   ],
   "source": [
    "# Create a function to print results\n",
    "def print_rows(cursor):\n",
    "    column_names = [\n",
    "        \"Age\", \"Job\", \"Marital\", \"Education\", \"Default\", \"Balance\", \"Housing\",\n",
    "        \"Loan\", \"Contact\", \"Day\", \"Month\", \"Duration\", \"Campaign\", \"Pdays\",\n",
    "        \"Previous\", \"Poutcome\", \"Deposit\"\n",
    "    ]\n",
    "    \n",
    "    for row in rows:\n",
    "        for i, column_value in enumerate(row):\n",
    "            print(f\"{column_names[i]}:\", column_value)\n",
    "        print(\"---------------\")\n",
    "\n",
    "# Display 10 rows of the table\n",
    "rows = c.execute(\"\"\"SELECT * FROM bank;\"\"\").fetchmany(5)\n",
    "print_rows(rows)"
   ]
  },
  {
   "cell_type": "code",
   "execution_count": 7,
   "id": "0c9c387f",
   "metadata": {},
   "outputs": [
    {
     "data": {
      "text/plain": [
       "[('retired', 764),\n",
       " ('management', 757),\n",
       " ('blue-collar', 537),\n",
       " ('technician', 456),\n",
       " ('admin.', 361),\n",
       " ('services', 206),\n",
       " ('housemaid', 157),\n",
       " ('entrepreneur', 125),\n",
       " ('unemployed', 118),\n",
       " ('self-employed', 113),\n",
       " ('unknown', 37),\n",
       " ('student', 2)]"
      ]
     },
     "execution_count": 7,
     "metadata": {},
     "output_type": "execute_result"
    }
   ],
   "source": [
    "# Which professions are the most popular among customers over 45 years old?\n",
    "c.execute(\"\"\"SELECT job, COUNT(job) \n",
    "                FROM bank\n",
    "                WHERE age > 45\n",
    "                GROUP BY job\n",
    "                ORDER BY COUNT(job) DESC;\n",
    "                \"\"\").fetchall()"
   ]
  },
  {
   "cell_type": "code",
   "execution_count": 8,
   "id": "93747dd0",
   "metadata": {},
   "outputs": [
    {
     "data": {
      "text/plain": [
       "51"
      ]
     },
     "execution_count": 8,
     "metadata": {},
     "output_type": "execute_result"
    }
   ],
   "source": [
    "# For how many people with loans did the marketing campaign succeed?\n",
    "c.execute(\"\"\"SELECT COUNT(*) \n",
    "                FROM bank\n",
    "                WHERE loan == \"yes\" AND Poutcome = \"success\";\"\"\").fetchone()[0]"
   ]
  },
  {
   "cell_type": "code",
   "execution_count": 9,
   "id": "473a2836",
   "metadata": {},
   "outputs": [
    {
     "data": {
      "text/plain": [
       "12"
      ]
     },
     "execution_count": 9,
     "metadata": {},
     "output_type": "execute_result"
    }
   ],
   "source": [
    "# How many unique job types are there in the dataset?\n",
    "c.execute(\"\"\"SELECT COUNT(DISTINCT job) FROM bank;\"\"\").fetchone()[0]"
   ]
  },
  {
   "cell_type": "code",
   "execution_count": 10,
   "id": "77a91795",
   "metadata": {},
   "outputs": [
    {
     "data": {
      "text/plain": [
       "41.670069956513515"
      ]
     },
     "execution_count": 10,
     "metadata": {},
     "output_type": "execute_result"
    }
   ],
   "source": [
    "# What is the average age of clients who suscribed to a term deposit?\n",
    "c.execute(\"\"\"SELECT AVG(age) \n",
    "                FROM bank\n",
    "                WHERE deposit = \"yes\";\"\"\").fetchone()[0]"
   ]
  },
  {
   "cell_type": "code",
   "execution_count": 11,
   "id": "5d863ee9",
   "metadata": {},
   "outputs": [
    {
     "data": {
      "text/plain": [
       "[('may', 6575)]"
      ]
     },
     "execution_count": 11,
     "metadata": {},
     "output_type": "execute_result"
    }
   ],
   "source": [
    "# Which month had the highest number of marketing campaign contacts?\n",
    "c.execute(\"\"\"SELECT month, SUM(campaign) \n",
    "                FROM bank\n",
    "                GROUP BY month\n",
    "                ORDER BY SUM(campaign) DESC\n",
    "                LIMIT 1;\"\"\").fetchall()"
   ]
  },
  {
   "cell_type": "code",
   "execution_count": 12,
   "id": "41934cf0",
   "metadata": {},
   "outputs": [
    {
     "data": {
      "text/plain": [
       "[('admin.', 1),\n",
       " ('blue-collar', 1),\n",
       " ('entrepreneur', 1),\n",
       " ('housemaid', 1),\n",
       " ('management', 1),\n",
       " ('retired', 2),\n",
       " ('self-employed', 2),\n",
       " ('services', 1),\n",
       " ('student', 2),\n",
       " ('technician', 1),\n",
       " ('unemployed', 1),\n",
       " ('unknown', 1)]"
      ]
     },
     "execution_count": 12,
     "metadata": {},
     "output_type": "execute_result"
    }
   ],
   "source": [
    "# How many clients have the highest balance in their respective job categories?\n",
    "c.execute(\"\"\"SELECT job, COUNT(*) AS client_count \n",
    "                FROM bank \n",
    "                WHERE balance = (SELECT MAX(balance)\n",
    "                                    FROM bank b2\n",
    "                                    WHERE b2.job = bank.job)\n",
    "                GROUP BY job;\"\"\").fetchall()"
   ]
  },
  {
   "cell_type": "code",
   "execution_count": 13,
   "id": "92a71cca",
   "metadata": {},
   "outputs": [
    {
     "data": {
      "text/plain": [
       "(20, 1617)"
      ]
     },
     "execution_count": 13,
     "metadata": {},
     "output_type": "execute_result"
    }
   ],
   "source": [
    "# What is the maximum number of contacts made in a single day during the marketing campaign?\n",
    "c.execute(\"\"\"SELECT day, SUM(campaign)\n",
    "                FROM bank\n",
    "                GROUP BY day\n",
    "                ORDER BY SUM(campaign) DESC\n",
    "                LIMIT 1\"\"\").fetchall()[0]"
   ]
  },
  {
   "cell_type": "code",
   "execution_count": 14,
   "id": "a2b39aba",
   "metadata": {},
   "outputs": [
    {
     "data": {
      "text/plain": [
       "[('divorced', 48.10518174787316),\n",
       " ('married', 43.37899543378995),\n",
       " ('single', 54.34906196702672)]"
      ]
     },
     "execution_count": 14,
     "metadata": {},
     "output_type": "execute_result"
    }
   ],
   "source": [
    "# Determine the percentage of clients who have subscribed to a term deposit within each marital group.\n",
    "c.execute(\"\"\"SELECT marital, (COUNT(CASE WHEN deposit = 'yes' THEN 1 END) * 100.0 / COUNT(*)) AS percentage\n",
    "                FROM bank\n",
    "                GROUP BY marital;\"\"\").fetchall()"
   ]
  },
  {
   "cell_type": "code",
   "execution_count": 15,
   "id": "6651ef3d",
   "metadata": {},
   "outputs": [
    {
     "data": {
      "text/plain": [
       "[('retired', 1878.84),\n",
       " ('unknown', 1674.0),\n",
       " ('student', 1536.38),\n",
       " ('entrepreneur', 1503.72),\n",
       " ('self-employed', 1448.11),\n",
       " ('management', 1436.74),\n",
       " ('technician', 1315.44),\n",
       " ('unemployed', 1289.26),\n",
       " ('blue-collar', 1162.97),\n",
       " ('housemaid', 1083.87),\n",
       " ('services', 1060.41),\n",
       " ('admin.', 979.17)]"
      ]
     },
     "execution_count": 15,
     "metadata": {},
     "output_type": "execute_result"
    }
   ],
   "source": [
    "# Find the job category that has the highest average balance among clients who have not subscribed to a term deposit.\n",
    "c.execute(\"\"\"SELECT job, ROUND(AVG(balance),2)\n",
    "                FROM bank\n",
    "                WHERE deposit = \"no\"\n",
    "                GROUP BY job\n",
    "                ORDER BY AVG(balance) DESC;\"\"\").fetchall()"
   ]
  },
  {
   "cell_type": "code",
   "execution_count": 16,
   "id": "dd14d1b1",
   "metadata": {},
   "outputs": [
    {
     "data": {
      "text/plain": [
       "[('married', 52.14), ('single', 34.99), ('divorced', 12.87)]"
      ]
     },
     "execution_count": 16,
     "metadata": {},
     "output_type": "execute_result"
    }
   ],
   "source": [
    "# Identify the martial satatus that has the highest percentage of clients with a housing loan and a term deposit.\n",
    "c.execute(\"\"\"SELECT marital, ROUND(COUNT(*) * 100.0 / (SELECT COUNT(*)\n",
    "                                                    FROM bank \n",
    "                                                    WHERE housing = 'yes' AND deposit = 'yes'),2) AS percentage\n",
    "                FROM bank\n",
    "                WHERE housing = 'yes' AND deposit = 'yes'\n",
    "                GROUP BY marital\n",
    "                ORDER BY percentage DESC\"\"\").fetchall()"
   ]
  },
  {
   "cell_type": "markdown",
   "id": "d49dfcb2",
   "metadata": {},
   "source": [
    "## Conclusions\n",
    "- The most popular professions among customers over 45 years old are retired (764), management (757) and blue-collar (537).\n",
    "- The last marketing campaign succeed for 51 people with loans.\n",
    "- There are 12 unique job types in the dataset.\n",
    "- The average age of clients who suscribed to a term deposit is 41 years.\n",
    "- The month with the highest number of marketing campaign contacts is may (6575).\n",
    "- The maximum number of contacts made in a single day during the marketing campaign are 1617.\n",
    "- The percentage of clients who have subscribed to a term deposit within each martial group are:\n",
    "    - Divorced: 48.11%\n",
    "    - Married: 43.39%\n",
    "    - Single: 54.35%\n",
    "- The job category that has the highest average balance among clients who have not subscribed to a term deposit is retired (1878.84).\n",
    "- The martial status that has the highest percentage of clients with a housing loan and a term deposit is married (52.14%)."
   ]
  },
  {
   "cell_type": "code",
   "execution_count": 17,
   "id": "4cb4c0f9",
   "metadata": {},
   "outputs": [],
   "source": [
    "# Close the database\n",
    "c.close()"
   ]
  }
 ],
 "metadata": {
  "kernelspec": {
   "display_name": "Python 3 (ipykernel)",
   "language": "python",
   "name": "python3"
  },
  "language_info": {
   "codemirror_mode": {
    "name": "ipython",
    "version": 3
   },
   "file_extension": ".py",
   "mimetype": "text/x-python",
   "name": "python",
   "nbconvert_exporter": "python",
   "pygments_lexer": "ipython3",
   "version": "3.9.13"
  }
 },
 "nbformat": 4,
 "nbformat_minor": 5
}
